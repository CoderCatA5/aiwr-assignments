{
  "nbformat": 4,
  "nbformat_minor": 0,
  "metadata": {
    "colab": {
      "provenance": [],
      "authorship_tag": "ABX9TyOB6v29Yj16RU2Wcgtk43Gp",
      "include_colab_link": true
    },
    "kernelspec": {
      "name": "python3",
      "display_name": "Python 3"
    },
    "language_info": {
      "name": "python"
    }
  },
  "cells": [
    {
      "cell_type": "markdown",
      "metadata": {
        "id": "view-in-github",
        "colab_type": "text"
      },
      "source": [
        "<a href=\"https://colab.research.google.com/github/CoderCatA5/aiwr-assignments/blob/main/Assignment1.ipynb\" target=\"_parent\"><img src=\"https://colab.research.google.com/assets/colab-badge.svg\" alt=\"Open In Colab\"/></a>"
      ]
    },
    {
      "cell_type": "code",
      "execution_count": 1,
      "metadata": {
        "id": "VPdiQA30WRYn"
      },
      "outputs": [],
      "source": [
        "from sklearn.datasets import fetch_rcv1"
      ]
    },
    {
      "cell_type": "code",
      "source": [
        "rcv1 = fetch_rcv1()"
      ],
      "metadata": {
        "id": "Jd1biEblWWap"
      },
      "execution_count": null,
      "outputs": []
    }
  ]
}